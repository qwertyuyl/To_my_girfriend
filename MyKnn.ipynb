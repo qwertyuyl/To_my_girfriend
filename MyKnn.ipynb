{
 "cells": [
  {
   "cell_type": "code",
   "execution_count": 1,
   "id": "55f46171",
   "metadata": {
    "ExecuteTime": {
     "end_time": "2021-04-08T02:00:52.232945Z",
     "start_time": "2021-04-08T02:00:50.643334Z"
    }
   },
   "outputs": [],
   "source": [
    "import numpy as np\n",
    "import pandas as pd\n",
    "from sklearn.model_selection import train_test_split\n",
    "from sklearn import preprocessing\n",
    "from sklearn.neighbors import KNeighborsClassifier"
   ]
  },
  {
   "cell_type": "code",
   "execution_count": 2,
   "id": "0a85bc1b",
   "metadata": {
    "ExecuteTime": {
     "end_time": "2021-04-08T02:00:57.716022Z",
     "start_time": "2021-04-08T02:00:57.711036Z"
    }
   },
   "outputs": [],
   "source": [
    "def data(path):\n",
    "    data=pd.read_csv(path)\n",
    "    #data=data.astype(int)#强制转换为int类型\n",
    "    x=data.iloc[:,1:-1]#进行特征和标签的数据切片\n",
    "    y=data.iloc[:,-1]\n",
    "    \n",
    "    \n",
    "    #分测试集和训练集\n",
    "    x_train,x_test,y_train,y_test=train_test_split(x,y,test_size=0.3)\n",
    "    return x_train,x_test,y_train,y_test"
   ]
  },
  {
   "cell_type": "code",
   "execution_count": 7,
   "id": "cbb536f0",
   "metadata": {
    "ExecuteTime": {
     "end_time": "2021-04-08T02:01:19.372552Z",
     "start_time": "2021-04-08T02:01:18.952671Z"
    }
   },
   "outputs": [
    {
     "name": "stdout",
     "output_type": "stream",
     "text": [
      "0.9940439515300883 0.9837086727359846\n"
     ]
    }
   ],
   "source": [
    "x_train, x_test, y_train, y_test = data(r\"C:\\Users\\38061\\Jupyter_Notebook\\KNN_KMEAN\\02.csv\")\n",
    "\n",
    "knn = KNeighborsClassifier(n_neighbors=5)\n",
    "\n",
    "# 训练集 训练模型\n",
    "knn.fit(x_train,y_train)\n",
    "\n",
    "accuracy_train=knn.score(x_train, y_train)#评估-精确率\n",
    "accuracy_test=knn.score(x_test, y_test)#评估-精确率\n",
    "print(accuracy_train,accuracy_test)"
   ]
  },
  {
   "cell_type": "code",
   "execution_count": 8,
   "id": "adabe7ae",
   "metadata": {
    "ExecuteTime": {
     "end_time": "2021-04-08T02:01:22.186037Z",
     "start_time": "2021-04-08T02:01:21.792088Z"
    }
   },
   "outputs": [
    {
     "name": "stdout",
     "output_type": "stream",
     "text": [
      "              precision    recall  f1-score   support\n",
      "\n",
      "           0       0.99      0.99      0.99      1364\n",
      "           1       1.00      1.00      1.00      3505\n",
      "\n",
      "    accuracy                           0.99      4869\n",
      "   macro avg       0.99      0.99      0.99      4869\n",
      "weighted avg       0.99      0.99      0.99      4869\n",
      "\n",
      "              precision    recall  f1-score   support\n",
      "\n",
      "           0       0.98      0.96      0.97       577\n",
      "           1       0.99      0.99      0.99      1510\n",
      "\n",
      "    accuracy                           0.98      2087\n",
      "   macro avg       0.98      0.98      0.98      2087\n",
      "weighted avg       0.98      0.98      0.98      2087\n",
      "\n"
     ]
    }
   ],
   "source": [
    "y_train_pre=knn.predict(x_train)\n",
    "y_test_pre=knn.predict(x_test)\n",
    "from sklearn.metrics import classification_report\n",
    "print(classification_report(y_train,y_train_pre))\n",
    "print(classification_report(y_test,y_test_pre))"
   ]
  },
  {
   "cell_type": "code",
   "execution_count": 9,
   "id": "c194910b",
   "metadata": {
    "ExecuteTime": {
     "end_time": "2021-04-08T02:01:23.485112Z",
     "start_time": "2021-04-08T02:01:23.167959Z"
    }
   },
   "outputs": [
    {
     "data": {
      "text/plain": [
       "Text(0, 0.5, 'true label')"
      ]
     },
     "execution_count": 9,
     "metadata": {},
     "output_type": "execute_result"
    },
    {
     "data": {
      "image/png": "[encoded data removed]",
      "text/plain": [
       "<Figure size 432x288 with 2 Axes>"
      ]
     },
     "metadata": {
      "needs_background": "light"
     },
     "output_type": "display_data"
    }
   ],
   "source": [
    "from sklearn import metrics\n",
    "metrics.accuracy_score(y_test_pre, y_test)\n",
    "import matplotlib.pyplot as plt\n",
    "%matplotlib inline\n",
    "plt.imshow(metrics.confusion_matrix(y_test_pre, y_test),\n",
    "           interpolation='nearest', \n",
    "           cmap=plt.cm.binary)\n",
    "plt.grid(False)\n",
    "plt.colorbar()\n",
    "plt.xlabel(\"predicted label\")\n",
    "plt.ylabel(\"true label\")"
   ]
  },
  {
   "cell_type": "code",
   "execution_count": 10,
   "id": "d08cabc3",
   "metadata": {
    "ExecuteTime": {
     "end_time": "2021-04-08T02:01:24.681559Z",
     "start_time": "2021-04-08T02:01:24.662609Z"
    }
   },
   "outputs": [
    {
     "data": {
      "text/plain": [
       "['knnModel.gz']"
      ]
     },
     "execution_count": 10,
     "metadata": {},
     "output_type": "execute_result"
    }
   ],
   "source": [
    "import joblib\n",
    "joblib.dump(value=knn,filename=\"knnModel.gz\",compress=True)"
   ]
  },
  {
   "cell_type": "code",
   "execution_count": null,
   "id": "b81e414e",
   "metadata": {},
   "outputs": [],
   "source": []
  }
 ],
 "metadata": {
  "kernelspec": {
   "display_name": "Python 3",
   "language": "python",
   "name": "python3"
  },
  "language_info": {
   "codemirror_mode": {
    "name": "ipython",
    "version": 3
   },
   "file_extension": ".py",
   "mimetype": "text/x-python",
   "name": "python",
   "nbconvert_exporter": "python",
   "pygments_lexer": "ipython3",
   "version": "3.8.8"
  },
  "toc": {
   "base_numbering": 1,
   "nav_menu": {},
   "number_sections": true,
   "sideBar": true,
   "skip_h1_title": false,
   "title_cell": "Table of Contents",
   "title_sidebar": "Contents",
   "toc_cell": false,
   "toc_position": {},
   "toc_section_display": true,
   "toc_window_display": false
  },
  "varInspector": {
   "cols": {
    "lenName": 16,
    "lenType": 16,
    "lenVar": 40
   },
   "kernels_config": {
    "python": {
     "delete_cmd_postfix": "",
     "delete_cmd_prefix": "del ",
     "library": "var_list.py",
     "varRefreshCmd": "print(var_dic_list())"
    },
    "r": {
     "delete_cmd_postfix": ") ",
     "delete_cmd_prefix": "rm(",
     "library": "var_list.r",
     "varRefreshCmd": "cat(var_dic_list()) "
    }
   },
   "types_to_exclude": [
    "module",
    "function",
    "builtin_function_or_method",
    "instance",
    "_Feature"
   ],
   "window_display": false
  }
 },
 "nbformat": 4,
 "nbformat_minor": 5
}
